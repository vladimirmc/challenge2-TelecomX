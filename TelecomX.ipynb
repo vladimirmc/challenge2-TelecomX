{
  "nbformat": 4,
  "nbformat_minor": 0,
  "metadata": {
    "colab": {
      "provenance": [],
      "authorship_tag": "ABX9TyPKyC2mCDaHuELNkqhkSZ9p",
      "include_colab_link": true
    },
    "kernelspec": {
      "name": "python3",
      "display_name": "Python 3"
    },
    "language_info": {
      "name": "python"
    }
  },
  "cells": [
    {
      "cell_type": "markdown",
      "metadata": {
        "id": "view-in-github",
        "colab_type": "text"
      },
      "source": [
        "<a href=\"https://colab.research.google.com/github/vladimirmc/challenge2-TelecomX/blob/main/TelecomX.ipynb\" target=\"_parent\"><img src=\"https://colab.research.google.com/assets/colab-badge.svg\" alt=\"Open In Colab\"/></a>"
      ]
    },
    {
      "cell_type": "markdown",
      "source": [
        "##EXTRACCIÓN"
      ],
      "metadata": {
        "id": "nZIlViE-CE9B"
      }
    },
    {
      "cell_type": "markdown",
      "source": [],
      "metadata": {
        "id": "da3azMh2B-2u"
      }
    },
    {
      "cell_type": "code",
      "source": [],
      "metadata": {
        "id": "7dqXJjsyCLZy"
      },
      "execution_count": null,
      "outputs": []
    }
  ]
}